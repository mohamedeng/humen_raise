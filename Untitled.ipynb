{
  "cells": [
    {
      "cell_type": "code",
      "source": [
        "from google.colab import drive\n",
        "drive.mount('/content/drive')"
      ],
      "metadata": {
        "colab": {
          "base_uri": "https://localhost:8080/"
        },
        "id": "2T3y21YL76U3",
        "outputId": "8d1a7b82-d9cf-4bd4-dfdd-c17572057b2e"
      },
      "id": "2T3y21YL76U3",
      "execution_count": 1,
      "outputs": [
        {
          "output_type": "stream",
          "name": "stdout",
          "text": [
            "Mounted at /content/drive\n"
          ]
        }
      ]
    },
    {
      "cell_type": "code",
      "execution_count": 2,
      "id": "given-orchestra",
      "metadata": {
        "id": "given-orchestra"
      },
      "outputs": [],
      "source": [
        "import pandas as pd \n",
        "import numpy as np\n",
        "import os\n",
        "from PIL import Image\n",
        "from torchvision import transforms\n",
        "from torch.utils.data import Dataset,DataLoader\n"
      ]
    },
    {
      "cell_type": "code",
      "execution_count": 3,
      "id": "planned-nurse",
      "metadata": {
        "id": "planned-nurse"
      },
      "outputs": [],
      "source": [
        "def random_split(lis,percent):\n",
        "    import random\n",
        "    \n",
        "    l1 = []\n",
        "    l2 = []\n",
        "    taken = []\n",
        "    \n",
        "    for i in range(int(len(lis)*percent)) :\n",
        "        number = random.randrange(len(lis))\n",
        "        while(number in taken):\n",
        "            number = random.randrange(len(lis))\n",
        "        \n",
        "        taken.append(number)\n",
        "        l1.append(lis[number])\n",
        "    for i in range(len(lis)) : \n",
        "        if i not in taken :\n",
        "            l2.append(lis[i])\n",
        "        \n",
        "    return l1,l2        "
      ]
    },
    {
      "cell_type": "code",
      "execution_count": 4,
      "id": "specialized-orientation",
      "metadata": {
        "id": "specialized-orientation"
      },
      "outputs": [],
      "source": [
        "import torch\n",
        "class Face_dataset(Dataset):\n",
        "    def __init__ (self,dir_path,photo_list,transform=None):\n",
        "        super().__init__()\n",
        "        self.transform = transform\n",
        "\n",
        "        self.y = [ int(x.split(\"_\")[0]) for x in photo_list]\n",
        "        self.x = []\n",
        "        self.len = len(self.y)\n",
        "      \n",
        "        self.y = torch.LongTensor(self.y)\n",
        "        \n",
        "        for photo in photo_list :\n",
        "            self.x.append(self.transform(Image.open(dir_path+\"/\"+photo).convert('RGB')))\n",
        "    def __getitem__ (self,index):\n",
        "        return (self.x[index],self.y[index])\n",
        "    \n",
        "    def __len__ (self):\n",
        "        return self.len\n"
      ]
    },
    {
      "cell_type": "code",
      "execution_count": 5,
      "id": "clean-archive",
      "metadata": {
        "scrolled": true,
        "id": "clean-archive"
      },
      "outputs": [],
      "source": [
        "train_transform = transforms.Compose(\n",
        "    [\n",
        "    transforms.Resize((64,64)),\n",
        "    \n",
        "    transforms.ToTensor(),\n",
        "     \n",
        "     transforms.Normalize((0.5, 0.5, 0.5), (0.5, 0.5, 0.5)),])\n",
        "\n",
        "photo_list = os.listdir(\"/content/drive/MyDrive/raice_detect/UTKFace\")\n",
        "train_list,test_list = random_split(photo_list,0.7)\n",
        "valid_list = train_list[:int(len(train_list)*0.3)]\n",
        "\n",
        "train_dataset = Face_dataset(\"/content/drive/MyDrive/raice_detect/UTKFace\",train_list,train_transform)\n",
        "test_dataset = Face_dataset(\"/content/drive/MyDrive/raice_detect/UTKFace\",test_list,train_transform)\n",
        "valid_dataset = Face_dataset(\"/content/drive/MyDrive/raice_detect/UTKFace\",valid_list,train_transform)\n",
        "\n",
        "train_loader = DataLoader (train_dataset,batch_size = 32 ,shuffle = True)\n",
        "test_loader = DataLoader (test_dataset,batch_size = 32 ,shuffle = True)"
      ]
    },
    {
      "cell_type": "code",
      "execution_count": 6,
      "id": "concerned-collapse",
      "metadata": {
        "id": "concerned-collapse"
      },
      "outputs": [],
      "source": [
        "import torch.nn as nn\n",
        "import torch.nn.functional as F\n",
        "import torch.optim as optim\n",
        "class Cnn(nn.Module):\n",
        "    def __init__ (self):\n",
        "        super().__init__()\n",
        "        # 64*64*3\n",
        "        \n",
        "        self.conv1 = nn.Conv2d(3,16,3,padding = 1)\n",
        "        self.conv2 = nn.Conv2d(16,16,3,padding = 1)\n",
        "        self.conv3 = nn.Conv2d(16,16,3,padding = 1)\n",
        "        \n",
        "        self.batch1 = nn.BatchNorm2d(16)\n",
        "        #---------------------------------\n",
        "        self.conv4 = nn.Conv2d(16,32,3,padding = 1)\n",
        "        self.conv5 = nn.Conv2d(32,32,3,padding = 1)\n",
        "        self.conv6 = nn.Conv2d(32,32,3,padding = 1)\n",
        "        \n",
        "        self.batch2 = nn.BatchNorm2d(32)\n",
        "        #---------------------------------        \n",
        "        self.conv7 = nn.Conv2d(32,64,3,padding = 1)\n",
        "        self.conv8 = nn.Conv2d(64,64,3,padding = 1)\n",
        "        self.conv9 = nn.Conv2d(64,64,3,padding = 1)\n",
        "        \n",
        "        self.batch3 = nn.BatchNorm2d(64)\n",
        "        #---------------------------------        \n",
        "        self.max = nn.MaxPool2d(2,2)\n",
        "        \n",
        "        self.drop = nn.Dropout(0.3)\n",
        "        \n",
        "        #8*8*64\n",
        "        #---------------------------------\n",
        "        self.fc1 = nn.Linear(8*8*64 , 2500)\n",
        "        self.fc2 = nn.Linear(2500 , 2000)\n",
        "        self.fc3 = nn.Linear(2000,1000)\n",
        "        self.fc4 = nn.Linear(1000,500)\n",
        "        self.fc5 = nn.Linear(500,100)\n",
        "        self.fc6 = nn.Linear(100,117)\n",
        "        \n",
        "    def  Loss_Function (self,lr):\n",
        "        \n",
        "        self.criterion = nn.CrossEntropyLoss() \n",
        "        self.optimizer = optim.Adam(self.parameters(),lr)\n",
        "        \n",
        "        \n",
        "    def forward (self,x):\n",
        "        \n",
        "        x = F.relu(self.conv1(x))\n",
        "        x = F.relu(self.conv2(x))\n",
        "        x = F.relu(self.conv3(x))\n",
        "        x = self.max(x)\n",
        "        x = self.batch1(x)\n",
        "        \n",
        "        #--------------\n",
        "        \n",
        "        x = F.relu(self.conv4(x))\n",
        "        x = F.relu(self.conv5(x))\n",
        "        x = F.relu(self.conv6(x))\n",
        "        x = self.max(x)\n",
        "        x = self.batch2(x)\n",
        "        \n",
        "        #--------------\n",
        "        \n",
        "        x = F.relu(self.conv7(x))\n",
        "        x = F.relu(self.conv8(x))\n",
        "        x = F.relu(self.conv9(x))\n",
        "        x = self.max(x)\n",
        "        x = self.batch3(x)\n",
        "        \n",
        "        #--------------\n",
        "        \n",
        "        x = x.view(-1,8*8*64)\n",
        "        x = F.relu(self.fc1(x))\n",
        "        x = F.relu(self.fc2(x))\n",
        "        x = F.relu(self.fc3(x))\n",
        "        x = F.relu(self.fc4(x))\n",
        "        x =  F.relu(self.fc5(x))\n",
        "        x = self.fc6(x)\n",
        "        \n",
        "        return x\n",
        "    \n",
        "    def trains_(self,epoch,lr,train_data,valid_data):\n",
        "    \n",
        "        self.Loss_Function(lr)\n",
        "        valid_min = np.Inf\n",
        "        for _ in range(epoch+1):\n",
        "            t_loss = 0\n",
        "            v_loss = 0\n",
        "            self.train()\n",
        "            for x,y in train_data:\n",
        "                \n",
        "                self.optimizer.zero_grad()\n",
        "                \n",
        "                output = self.predict(x)\n",
        "                loss = self.criterion(output,y)\n",
        "                loss.backward()\n",
        "                self.optimizer.step()\n",
        "                t_loss+=loss.item()\n",
        "            self.eval()\n",
        "            for x,y in valid_data:\n",
        "                \n",
        "                \n",
        "                output = self.predict(x)\n",
        "                loss = self.criterion(output,y)\n",
        "                loss.backward()\n",
        "                v_loss+=loss.item()\n",
        "                \n",
        "            t_loss = t_loss/len(train_data.dataset)\n",
        "            v_loss = v_loss/len(valid_data.dataset)\n",
        "            print('Epoch: {} \\tTraining Loss: {:.6f} \\tValidation Loss: {:.6f}'.format(\n",
        "            _, t_loss, v_loss))\n",
        "            \n",
        "            if v_loss <= valid_min:\n",
        "                \n",
        "                print('Validation loss decreased ({:.6f} --> {:.6f}).  Saving model ...'.format(\n",
        "                valid_min,\n",
        "                v_loss))\n",
        "                torch.save(self.state_dict(), 'model.pt')\n",
        "                valid_min = v_loss\n",
        "                \n",
        "            \n",
        "    def predict(self,x):\n",
        "        \n",
        "        output = self.forward(x)\n",
        "        \n",
        "        return output\n",
        "    \n",
        "    \n",
        "    def test(self,test_data):\n",
        "        valid_min = np.Inf\n",
        "        for _ in range(100+1):\n",
        "          t_loss = 0\n",
        "          v_loss = 0\n",
        "      \n",
        "          for x,y in test_data:\n",
        "              output = self.predict(x)\n",
        "              loss = self.criterion(output,y)\n",
        "              loss.backward()\n",
        "              v_loss+=loss.item()\n",
        "\n",
        "          v_loss = v_loss/len(v_loss.dataset)\n",
        "          print('Epoch:  Validation Loss: {:.6f}'.format(\n",
        "           v_loss))"
      ]
    },
    {
      "cell_type": "code",
      "execution_count": 7,
      "id": "absolute-desperate",
      "metadata": {
        "id": "absolute-desperate"
      },
      "outputs": [],
      "source": [
        "model = Cnn()"
      ]
    },
    {
      "cell_type": "code",
      "source": [
        "model.trains_(200,0.1,train_loader,test_loader)"
      ],
      "metadata": {
        "colab": {
          "base_uri": "https://localhost:8080/"
        },
        "id": "meeXX5M2_cnl",
        "outputId": "2c050318-1e1c-46d8-e1e5-d5338aeba06f"
      },
      "id": "meeXX5M2_cnl",
      "execution_count": null,
      "outputs": [
        {
          "output_type": "stream",
          "name": "stdout",
          "text": [
            "Epoch: 200 \tTraining Loss: 3568.638950 \tValidation Loss: 0.128857\n",
            "Validation loss decreased (inf --> 0.128857).  Saving model ...\n",
            "Epoch: 200 \tTraining Loss: 0.128280 \tValidation Loss: 0.128961\n",
            "Epoch: 200 \tTraining Loss: 0.128246 \tValidation Loss: 0.128947\n",
            "Epoch: 200 \tTraining Loss: 0.128303 \tValidation Loss: 0.128207\n",
            "Validation loss decreased (0.128857 --> 0.128207).  Saving model ...\n",
            "Epoch: 200 \tTraining Loss: 0.128276 \tValidation Loss: 0.128769\n",
            "Epoch: 200 \tTraining Loss: 0.128286 \tValidation Loss: 0.128955\n",
            "Epoch: 200 \tTraining Loss: 0.128265 \tValidation Loss: 0.129158\n",
            "Epoch: 200 \tTraining Loss: 0.128265 \tValidation Loss: 0.129105\n",
            "Epoch: 200 \tTraining Loss: 0.128311 \tValidation Loss: 0.129288\n",
            "Epoch: 200 \tTraining Loss: 0.128304 \tValidation Loss: 0.129153\n",
            "Epoch: 200 \tTraining Loss: 0.128264 \tValidation Loss: 0.129202\n",
            "Epoch: 200 \tTraining Loss: 0.128381 \tValidation Loss: 0.129158\n",
            "Epoch: 200 \tTraining Loss: 0.128300 \tValidation Loss: 0.129042\n",
            "Epoch: 200 \tTraining Loss: 0.128317 \tValidation Loss: 0.128912\n",
            "Epoch: 200 \tTraining Loss: 0.128261 \tValidation Loss: 0.128967\n",
            "Epoch: 200 \tTraining Loss: 0.128312 \tValidation Loss: 0.129242\n",
            "Epoch: 200 \tTraining Loss: 0.128326 \tValidation Loss: 0.128939\n",
            "Epoch: 200 \tTraining Loss: 0.128296 \tValidation Loss: 0.128943\n",
            "Epoch: 200 \tTraining Loss: 0.128284 \tValidation Loss: 0.128986\n",
            "Epoch: 200 \tTraining Loss: 0.128307 \tValidation Loss: 0.128883\n",
            "Epoch: 200 \tTraining Loss: 0.128205 \tValidation Loss: 0.128785\n",
            "Epoch: 200 \tTraining Loss: 0.128328 \tValidation Loss: 0.128535\n",
            "Epoch: 200 \tTraining Loss: 0.128337 \tValidation Loss: 0.129057\n",
            "Epoch: 200 \tTraining Loss: 0.128244 \tValidation Loss: 0.129454\n",
            "Epoch: 200 \tTraining Loss: 0.128312 \tValidation Loss: 0.128703\n",
            "Epoch: 200 \tTraining Loss: 0.128283 \tValidation Loss: 0.128934\n",
            "Epoch: 200 \tTraining Loss: 0.128248 \tValidation Loss: 0.128966\n",
            "Epoch: 200 \tTraining Loss: 0.128234 \tValidation Loss: 0.129030\n",
            "Epoch: 200 \tTraining Loss: 0.128267 \tValidation Loss: 0.129073\n",
            "Epoch: 200 \tTraining Loss: 0.128296 \tValidation Loss: 0.129431\n",
            "Epoch: 200 \tTraining Loss: 0.128326 \tValidation Loss: 0.129349\n"
          ]
        }
      ]
    },
    {
      "cell_type": "code",
      "source": [
        ""
      ],
      "metadata": {
        "id": "_mf3SahL_niY"
      },
      "id": "_mf3SahL_niY",
      "execution_count": null,
      "outputs": []
    }
  ],
  "metadata": {
    "kernelspec": {
      "display_name": "Python 3",
      "language": "python",
      "name": "python3"
    },
    "language_info": {
      "codemirror_mode": {
        "name": "ipython",
        "version": 3
      },
      "file_extension": ".py",
      "mimetype": "text/x-python",
      "name": "python",
      "nbconvert_exporter": "python",
      "pygments_lexer": "ipython3",
      "version": "3.8.3"
    },
    "colab": {
      "name": "Untitled.ipynb",
      "provenance": [],
      "collapsed_sections": []
    }
  },
  "nbformat": 4,
  "nbformat_minor": 5
}